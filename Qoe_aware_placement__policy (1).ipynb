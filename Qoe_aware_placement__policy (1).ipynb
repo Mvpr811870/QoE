{
  "nbformat": 4,
  "nbformat_minor": 0,
  "metadata": {
    "colab": {
      "name": "Qoe_aware_placement _policy.ipynb",
      "provenance": [],
      "collapsed_sections": []
    },
    "kernelspec": {
      "name": "python3",
      "display_name": "Python 3"
    },
    "language_info": {
      "name": "python"
    }
  },
  "cells": [
    {
      "cell_type": "code",
      "execution_count": null,
      "metadata": {
        "id": "5vftKwpH1lEF"
      },
      "outputs": [],
      "source": [
        "#Note :- Quality of Service is assumed to be met by the fog network\n",
        "# All Appplication Placement requests are arrived at the same time to FCN\n",
        "roe = [5.69,6.69,6.21,7.28,7.03]\n",
        "css = [3.41,2.62,4.5,3.79,4.64,5,4.74]"
      ]
    },
    {
      "cell_type": "code",
      "source": [
        "qoe = []\n",
        "def placement_req(val,index):\n",
        "  for i in range(len(css)):\n",
        "    qoe.append([val*css[i],i+1,index+1])\n",
        "# placement_req(roe[0],0)\n",
        "# print(qoe)"
      ],
      "metadata": {
        "id": "KcPVun6_5PbM"
      },
      "execution_count": null,
      "outputs": []
    },
    {
      "cell_type": "code",
      "source": [
        "for i in range(len(roe)):\n",
        "  placement_req(roe[i],i)\n",
        "qoe.sort(reverse=True)\n",
        "print(qoe)"
      ],
      "metadata": {
        "colab": {
          "base_uri": "https://localhost:8080/"
        },
        "id": "OslKNMo760Ch",
        "outputId": "d75b32bc-691a-4964-bfff-2d1111ad32f7"
      },
      "execution_count": null,
      "outputs": [
        {
          "output_type": "stream",
          "name": "stdout",
          "text": [
            "[[36.4, 6, 4], [35.15, 6, 5], [34.507200000000005, 7, 4], [33.779199999999996, 5, 4], [33.45, 6, 2], [33.3222, 7, 5], [32.76, 3, 4], [32.6192, 5, 5], [31.710600000000003, 7, 2], [31.635, 3, 5], [31.05, 6, 3], [31.0416, 5, 2], [30.105, 3, 2], [29.4354, 7, 3], [28.8144, 5, 3], [28.450000000000003, 6, 1], [27.945, 3, 3], [27.5912, 4, 4], [26.970600000000005, 7, 1], [26.643700000000003, 4, 5], [26.4016, 5, 1], [25.605, 3, 1], [25.3551, 4, 2], [24.824800000000003, 1, 4], [23.9723, 1, 5], [23.5359, 4, 3], [22.812900000000003, 1, 2], [21.5651, 4, 1], [21.1761, 1, 3], [19.402900000000002, 1, 1], [19.073600000000003, 2, 4], [18.4186, 2, 5], [17.527800000000003, 2, 2], [16.2702, 2, 3], [14.907800000000002, 2, 1]]\n"
          ]
        }
      ]
    },
    {
      "cell_type": "code",
      "source": [
        "application_set = set()\n",
        "instance_set = set()\n",
        "\n",
        "for i in range(len(qoe)):\n",
        "  if qoe[i][1] not in instance_set and qoe[i][2] not in application_set:\n",
        "    instance_set.add(qoe[i][1])\n",
        "    application_set.add(qoe[i][2])\n",
        "    print(\"Application \"+str(qoe[i][2])+\" is mapped to \"+str(qoe[i][1])+\" instance\")\n"
      ],
      "metadata": {
        "colab": {
          "base_uri": "https://localhost:8080/"
        },
        "id": "xqSFhvK77i12",
        "outputId": "7a308f9e-86bc-453d-a6f3-b4ad55a9f3c8"
      },
      "execution_count": null,
      "outputs": [
        {
          "output_type": "stream",
          "name": "stdout",
          "text": [
            "Application 4 is mapped to 6 instance\n",
            "Application 5 is mapped to 7 instance\n",
            "Application 2 is mapped to 5 instance\n",
            "Application 3 is mapped to 3 instance\n",
            "Application 1 is mapped to 4 instance\n"
          ]
        }
      ]
    },
    {
      "cell_type": "markdown",
      "source": [
        "MCDM METHOD"
      ],
      "metadata": {
        "id": "jH60-fR2iew5"
      }
    },
    {
      "cell_type": "code",
      "source": [
        "# Application metrics"
      ],
      "metadata": {
        "id": "pgj08qNGN9NE"
      },
      "execution_count": null,
      "outputs": []
    },
    {
      "cell_type": "code",
      "source": [
        " Q = [[2,2,120],[5,5,70],[3,3,90],[7,8,60],[8,3,50]] \n",
        " # Represents Access Rate, Resource Requirement, Processing Time"
      ],
      "metadata": {
        "id": "PWiiNG3Qi-_I"
      },
      "execution_count": null,
      "outputs": []
    },
    {
      "cell_type": "markdown",
      "source": [
        "Normalise the Matrix"
      ],
      "metadata": {
        "id": "IjEbXxXCjb3_"
      }
    },
    {
      "cell_type": "code",
      "source": [
        "import math\n",
        "normal_sum_vector=[]\n",
        "for i in range(len(Q[0])):\n",
        "  normal_sum=0\n",
        "  for j in range(len(Q)):\n",
        "    normal_sum=normal_sum+Q[j][i]*Q[j][i]\n",
        "  normal_sum=math.sqrt(normal_sum)\n",
        "  normal_sum_vector.append(normal_sum)\n",
        "\n",
        "for i in range(len(Q[0])):\n",
        "  for j in range(len(Q)):\n",
        "    Q[j][i]=Q[j][i]/normal_sum_vector[i]\n",
        "for i in range(len(Q)):\n",
        "  print(Q[i])"
      ],
      "metadata": {
        "id": "chODyYxCjdKd",
        "colab": {
          "base_uri": "https://localhost:8080/"
        },
        "outputId": "ecc92b9d-5aec-422b-ec74-1776f825b118"
      },
      "execution_count": null,
      "outputs": [
        {
          "output_type": "stream",
          "name": "stdout",
          "text": [
            "[0.16275769175423188, 0.1898315991504998, 0.6556300376497837]\n",
            "[0.40689422938557973, 0.4745789978762495, 0.38245085529570716]\n",
            "[0.24413653763134782, 0.2847473987257497, 0.49172252823733775]\n",
            "[0.5696519211398116, 0.7593263966019992, 0.32781501882489184]\n",
            "[0.6510307670169275, 0.2847473987257497, 0.2731791823540765]\n"
          ]
        }
      ]
    },
    {
      "cell_type": "code",
      "source": [
        "# Weight Assignment\n",
        "for i in range(len(Q)):\n",
        "  for j in range(len(Q[0])):\n",
        "    Q[i][j]=0.2*Q[i][j]\n",
        "for i in range(len(Q)):\n",
        "  print(Q[i])"
      ],
      "metadata": {
        "colab": {
          "base_uri": "https://localhost:8080/"
        },
        "id": "VdfN0-7BmsF5",
        "outputId": "8f8d2c42-00f6-40ed-edd4-4005aa5864f2"
      },
      "execution_count": null,
      "outputs": [
        {
          "output_type": "stream",
          "name": "stdout",
          "text": [
            "[0.03255153835084638, 0.03796631983009996, 0.13112600752995673]\n",
            "[0.08137884587711595, 0.09491579957524991, 0.07649017105914144]\n",
            "[0.04882730752626957, 0.056949479745149946, 0.09834450564746755]\n",
            "[0.11393038422796231, 0.15186527932039984, 0.06556300376497837]\n",
            "[0.1302061534033855, 0.056949479745149946, 0.054635836470815304]\n"
          ]
        }
      ]
    },
    {
      "cell_type": "markdown",
      "source": [
        "Finding Positive Ideal Solution and Negative Ideal Solution"
      ],
      "metadata": {
        "id": "uA-9fLh-nxvY"
      }
    },
    {
      "cell_type": "code",
      "source": [
        "# find best values and worst values of every metric\n",
        "# Here, metrics can be of two types;\n",
        "# one for which largest value is better (called benefit metrics),and \n",
        "# another for which lowest value of metric is better (called cost metric). \n",
        "# Among the considered application dependent metrics, access rate and  resource requirement are benifit metrics and\n",
        "# processing time is cost metric\n",
        "\n",
        "Aplus=[]\n",
        "Aminus=[]\n",
        "for j in range(len(Q[0])):\n",
        "  max_val =-1\n",
        "  min_val=1\n",
        "  for i in range(len(Q)):\n",
        "    max_val=max(max_val,Q[i][j])\n",
        "    min_val=min(min_val,Q[i][j])\n",
        "  if j!=2:  # because j=0 (access rate) and j=1 (required resources) are benifit matrics \n",
        "    Aplus.append(max_val)  \n",
        "    Aminus.append(min_val)\n",
        "  else: # because j=2 (processing time) is cost metric\n",
        "    Aplus.append(min_val)\n",
        "    Aminus.append(max_val)\n",
        "\n",
        "print(Aplus)\n",
        "print(Aminus)"
      ],
      "metadata": {
        "colab": {
          "base_uri": "https://localhost:8080/"
        },
        "id": "kuNpoKErnzmR",
        "outputId": "febb117f-0f76-4f84-d789-28bcf40643d5"
      },
      "execution_count": null,
      "outputs": [
        {
          "output_type": "stream",
          "name": "stdout",
          "text": [
            "[0.1302061534033855, 0.15186527932039984, 0.054635836470815304]\n",
            "[0.03255153835084638, 0.03796631983009996, 0.13112600752995673]\n"
          ]
        }
      ]
    },
    {
      "cell_type": "code",
      "source": [
        "# Distance Calculation from positive ideal value and negative ideal value for every application request\n",
        "\n",
        "Splus =[]\n",
        "Sminus =[]\n",
        "for i in range(len(Q)):\n",
        "  distance_from_best =0\n",
        "  distance_from_worst=0\n",
        "  for j in range(len(Q[i])):\n",
        "    distance_from_best=distance_from_best+((Aplus[j]-Q[i][j])*(Aplus[j]-Q[i][j]))\n",
        "    distance_from_worst=distance_from_worst+((Aminus[j]-Q[i][j])*(Aminus[j]-Q[i][j]))\n",
        "  Splus.append(math.sqrt(distance_from_best))\n",
        "  Sminus.append(math.sqrt(distance_from_worst))\n",
        "print(Splus)\n",
        "print(Sminus)"
      ],
      "metadata": {
        "colab": {
          "base_uri": "https://localhost:8080/"
        },
        "id": "0ckU2HJYx8K0",
        "outputId": "805e74b2-91ae-4c7d-b8ea-3ec04b9761b6"
      },
      "execution_count": null,
      "outputs": [
        {
          "output_type": "stream",
          "name": "stdout",
          "text": [
            "[0.16840470029868315, 0.07813425077267107, 0.13244611480332077, 0.019603664130113097, 0.0949157995752499]\n",
            "[0.0, 0.092803145584478, 0.041229696679501035, 0.15457683200257058, 0.12548916475168956]\n"
          ]
        }
      ]
    },
    {
      "cell_type": "code",
      "source": [
        "# Calculate the Rating of Application (RA)\n",
        "RA=[]\n",
        "for i in range(len(Splus)):\n",
        "  RA.append([Sminus[i]/(Splus[i]+Sminus[i]),i+1])\n",
        "for i in range(len(Q)): #i.e for every application\n",
        "  print(\"The RA of App \"+str(i+1)+\" is \"+str(RA[i][0]))\n"
      ],
      "metadata": {
        "colab": {
          "base_uri": "https://localhost:8080/"
        },
        "id": "cKb4AI610XSU",
        "outputId": "19a4ab1a-9dda-4569-edec-1b74a430d145"
      },
      "execution_count": null,
      "outputs": [
        {
          "output_type": "stream",
          "name": "stdout",
          "text": [
            "The RA of App 1 is 0.0\n",
            "The RA of App 2 is 0.5429072137648523\n",
            "The RA of App 3 is 0.23739458205196898\n",
            "The RA of App 4 is 0.8874520134838758\n",
            "The RA of App 5 is 0.5693572517066549\n"
          ]
        }
      ]
    },
    {
      "cell_type": "markdown",
      "source": [
        "Find Rating of Fog Computing Nodes / finding the computing power"
      ],
      "metadata": {
        "id": "6jeAJvlzR0s_"
      }
    },
    {
      "cell_type": "code",
      "source": [
        "CQ = [[100,3,20],[100,2,20],[200,4,40],[300,5,30],[400,6,50],[500,8,70],[500,6,60]]\n",
        "# Round Trip Time, Resource Availability, Processing Speed"
      ],
      "metadata": {
        "id": "WiXbsBLmR2u6"
      },
      "execution_count": null,
      "outputs": []
    },
    {
      "cell_type": "markdown",
      "source": [
        "Normalize the CQ matrix"
      ],
      "metadata": {
        "id": "XmMaooNcThwh"
      }
    },
    {
      "cell_type": "code",
      "source": [
        "import math\n",
        "normal_sum_vector=[]\n",
        "for i in range(len(CQ[0])):\n",
        "  normal_sum=0\n",
        "  for j in range(len(CQ)):\n",
        "    normal_sum=normal_sum+CQ[j][i]*CQ[j][i]\n",
        "  normal_sum=math.sqrt(normal_sum)\n",
        "  normal_sum_vector.append(normal_sum)\n",
        "\n",
        "for i in range(len(CQ[0])):\n",
        "  for j in range(len(CQ)):\n",
        "    CQ[j][i]=CQ[j][i]/normal_sum_vector[i]\n",
        "for i in range(len(CQ)):\n",
        "  print(CQ[i])"
      ],
      "metadata": {
        "colab": {
          "base_uri": "https://localhost:8080/"
        },
        "id": "FRmPPdOATKb1",
        "outputId": "441c3fba-4f5d-4d54-c26a-33b51467f146"
      },
      "execution_count": null,
      "outputs": [
        {
          "output_type": "stream",
          "name": "stdout",
          "text": [
            "[0.1111111111111111, 0.2176428750330035, 0.16724840200141816]\n",
            "[0.1111111111111111, 0.14509525002200233, 0.16724840200141816]\n",
            "[0.2222222222222222, 0.29019050004400465, 0.3344968040028363]\n",
            "[0.3333333333333333, 0.36273812505500586, 0.2508726030021272]\n",
            "[0.4444444444444444, 0.435285750066007, 0.4181210050035454]\n",
            "[0.5555555555555556, 0.5803810000880093, 0.5853694070049635]\n",
            "[0.5555555555555556, 0.435285750066007, 0.5017452060042544]\n"
          ]
        }
      ]
    },
    {
      "cell_type": "code",
      "source": [
        "# Weight Assignment\n",
        "for i in range(len(CQ)):\n",
        "  for j in range(len(CQ[0])):\n",
        "    CQ[i][j]=0.333*CQ[i][j]\n",
        "for i in range(len(CQ)):\n",
        "  print(CQ[i])"
      ],
      "metadata": {
        "colab": {
          "base_uri": "https://localhost:8080/"
        },
        "id": "F8aCly_6TlRz",
        "outputId": "ef9abb17-c94e-4a7a-d392-372945e8fa46"
      },
      "execution_count": null,
      "outputs": [
        {
          "output_type": "stream",
          "name": "stdout",
          "text": [
            "[0.037, 0.07247507738599017, 0.05569371786647225]\n",
            "[0.037, 0.04831671825732678, 0.05569371786647225]\n",
            "[0.074, 0.09663343651465356, 0.1113874357329445]\n",
            "[0.111, 0.12079179564331696, 0.08354057679970836]\n",
            "[0.148, 0.14495015477198034, 0.13923429466618062]\n",
            "[0.18500000000000003, 0.19326687302930712, 0.19492801253265288]\n",
            "[0.18500000000000003, 0.14495015477198034, 0.16708115359941672]\n"
          ]
        }
      ]
    },
    {
      "cell_type": "code",
      "source": [
        "# find best values and worst values of every metric\n",
        "# Here, metrics can be of two types;\n",
        "# one for which largest value is better (called benefit metrics),and \n",
        "# another for which lowest value of metric is better (called cost metric). \n",
        "# Round trip time is cost metric\n",
        "# Among the considered application resource availability and Processing Speed are benifit metrics\n",
        "\n",
        "CCplus=[]\n",
        "CCminus=[]\n",
        "for j in range(len(CQ[0])):\n",
        "  max_val =-1\n",
        "  min_val=1\n",
        "  for i in range(len(CQ)):\n",
        "    max_val=max(max_val,CQ[i][j])\n",
        "    min_val=min(min_val,CQ[i][j])\n",
        "  if j==1 or j==2:  # because j=2 (processing speed) and j=1 (required resources) are benifit matrics \n",
        "    CCplus.append(max_val)  \n",
        "    CCminus.append(min_val)\n",
        "  else: # because j=0 (round trip time) is cost metric\n",
        "    CCplus.append(min_val)\n",
        "    CCminus.append(max_val)\n",
        "\n",
        "print(CCplus)\n",
        "print(CCminus)"
      ],
      "metadata": {
        "colab": {
          "base_uri": "https://localhost:8080/"
        },
        "id": "7mWyVCipT3sU",
        "outputId": "7f36baff-d1aa-4e22-fa1a-4600a728e160"
      },
      "execution_count": null,
      "outputs": [
        {
          "output_type": "stream",
          "name": "stdout",
          "text": [
            "[0.037, 0.19326687302930712, 0.19492801253265288]\n",
            "[0.18500000000000003, 0.04831671825732678, 0.05569371786647225]\n"
          ]
        }
      ]
    },
    {
      "cell_type": "code",
      "source": [
        "# Distance Calculation from positive ideal value and \n",
        "# negative ideal value for every Instance in Fog Computation Node\n",
        "\n",
        "CSplus =[]\n",
        "CSminus =[]\n",
        "for i in range(len(CQ)):\n",
        "  distance_from_best =0\n",
        "  distance_from_worst=0\n",
        "  for j in range(len(CQ[i])):\n",
        "    distance_from_best=distance_from_best+((CCplus[j]-CQ[i][j])*(CCplus[j]-CQ[i][j]))\n",
        "    distance_from_worst=distance_from_worst+((CCminus[j]-CQ[i][j])*(CCminus[j]-CQ[i][j]))\n",
        "  CSplus.append(math.sqrt(distance_from_best))\n",
        "  CSminus.append(math.sqrt(distance_from_worst))\n",
        "print(CSplus)\n",
        "print(CSminus)"
      ],
      "metadata": {
        "colab": {
          "base_uri": "https://localhost:8080/"
        },
        "id": "uvDwPOpkU0ms",
        "outputId": "acfdc3c5-0c5b-407c-cb0a-9bfa78331aec"
      },
      "execution_count": null,
      "outputs": [
        {
          "output_type": "stream",
          "name": "stdout",
          "text": [
            "[0.18432809527016128, 0.2009893932017555, 0.1329889056450182, 0.15210456167145714, 0.13325650255408966, 0.14800000000000002, 0.15815799953086615]\n",
            "[0.1499587487137362, 0.14800000000000002, 0.1332565025540897, 0.10725709484482983, 0.1329889056450182, 0.2009893932017555, 0.147462476216129]\n"
          ]
        }
      ]
    },
    {
      "cell_type": "code",
      "source": [
        "# Calculate the Rating of Fog Computation Nodes (ROFC)\n",
        "ROFC=[]\n",
        "for i in range(len(CSplus)):\n",
        "  ROFC.append([CSminus[i]/(CSplus[i]+CSminus[i]),i+1])\n",
        "for i in range(len(CQ)): #i.e for every Instance\n",
        "  print(\"The ROFC for Instance  \"+str(i+1)+\" is \"+str(ROFC[i][0]))\n"
      ],
      "metadata": {
        "colab": {
          "base_uri": "https://localhost:8080/"
        },
        "id": "CJxjid6LVsNZ",
        "outputId": "2490ef67-9eb3-4ab3-d0d4-21b3fc73d297"
      },
      "execution_count": null,
      "outputs": [
        {
          "output_type": "stream",
          "name": "stdout",
          "text": [
            "The ROFC for Instance  1 is 0.44859303144146373\n",
            "The ROFC for Instance  2 is 0.42408165658616226\n",
            "The ROFC for Instance  3 is 0.5005025380735794\n",
            "The ROFC for Instance  4 is 0.41354260412080024\n",
            "The ROFC for Instance  5 is 0.49949746192642064\n",
            "The ROFC for Instance  6 is 0.5759183434138379\n",
            "The ROFC for Instance  7 is 0.4825019523175023\n"
          ]
        }
      ]
    },
    {
      "cell_type": "markdown",
      "source": [
        "MAPPING OF APPLICATIONS TO THE FOG COMPUTATIONAL INSTANCES"
      ],
      "metadata": {
        "id": "ASAKSbxhbgXZ"
      }
    },
    {
      "cell_type": "markdown",
      "source": [
        "**An application with higher value of RoA** **represents the high**\n",
        "**intensity of associated application dependent**\n",
        "**metrics while a**\n",
        "**fog instance with higher value of RoF represents** \n",
        "**the high capacity computing instance**"
      ],
      "metadata": {
        "id": "ObPkjvwibuno"
      }
    },
    {
      "cell_type": "code",
      "source": [
        "# Therefore for mapping of applications , first FGN sorts both RoA and RoFC values seperately.\n",
        "# Now the highest rated Application is mapped to the highest rated fog computattional instance\n",
        "RA.sort(reverse=True)\n",
        "ROFC.sort(reverse=True)\n",
        "print(RA)\n",
        "print(ROFC)"
      ],
      "metadata": {
        "colab": {
          "base_uri": "https://localhost:8080/"
        },
        "id": "nYzU9rKnbmFz",
        "outputId": "baa2e4de-794f-42ce-c49f-81c0d4399ced"
      },
      "execution_count": null,
      "outputs": [
        {
          "output_type": "stream",
          "name": "stdout",
          "text": [
            "[[0.8874520134838758, 4], [0.5693572517066549, 5], [0.5429072137648523, 2], [0.23739458205196898, 3], [0.0, 1]]\n",
            "[[0.5759183434138379, 6], [0.5005025380735794, 3], [0.49949746192642064, 5], [0.4825019523175023, 7], [0.44859303144146373, 1], [0.42408165658616226, 2], [0.41354260412080024, 4]]\n"
          ]
        }
      ]
    },
    {
      "cell_type": "code",
      "source": [
        "# Mapping Instances\n",
        "for i in range(len(RA)):\n",
        "  print(\"The Application \"+str(RA[i][1])+\" is mapped to the Instance \"+str(ROFC[i][1]))"
      ],
      "metadata": {
        "colab": {
          "base_uri": "https://localhost:8080/"
        },
        "id": "E5dbiET9eDHX",
        "outputId": "4e6daae2-e21d-435b-c4e5-4493d734bc5b"
      },
      "execution_count": null,
      "outputs": [
        {
          "output_type": "stream",
          "name": "stdout",
          "text": [
            "The Application 4 is mapped to the Instance 6\n",
            "The Application 5 is mapped to the Instance 3\n",
            "The Application 2 is mapped to the Instance 5\n",
            "The Application 3 is mapped to the Instance 7\n",
            "The Application 1 is mapped to the Instance 1\n"
          ]
        }
      ]
    },
    {
      "cell_type": "markdown",
      "source": [
        "This method of QoE aware Mapping the Applications to the Fog Instances using MCDM (Multiple Criteria Decision Making) principle has a total computational complexity of only o(n*k + m*l + nlogn + n*m + mlogm)\n",
        "where n = \"Number of Applications\" m= \"Number of Fog computing Instances\" k = \"Number of application dependent metrics\" and l = \"Number of Computing Instance dependent metrics\"\n",
        "\n",
        "Unlike the Fuzzy based Approach, overall complexity for large values of m will also be Polynomial."
      ],
      "metadata": {
        "id": "ntLgkevieo1K"
      }
    },
    {
      "cell_type": "code",
      "source": [
        ""
      ],
      "metadata": {
        "id": "TO0bzl5zgC1x"
      },
      "execution_count": null,
      "outputs": []
    }
  ]
}